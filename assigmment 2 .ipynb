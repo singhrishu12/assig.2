{
 "cells": [
  {
   "cell_type": "code",
   "execution_count": null,
   "id": "2412af82-19b1-4601-9eb2-93813a1f056a",
   "metadata": {},
   "outputs": [],
   "source": [
    "#ASSIGNMENT 2"
   ]
  },
  {
   "cell_type": "code",
   "execution_count": null,
   "id": "bc9b20c7-111d-4791-8c45-0fe0b7fbbdb8",
   "metadata": {},
   "outputs": [],
   "source": [
    "1.CalcUlate the sum, difference, product, and quotient of two numbers."
   ]
  },
  {
   "cell_type": "code",
   "execution_count": null,
   "id": "4efc2603-06ab-4b28-a542-f3019328920c",
   "metadata": {},
   "outputs": [],
   "source": [
    "sum"
   ]
  },
  {
   "cell_type": "code",
   "execution_count": 3,
   "id": "a2ea8fa3-a640-4ff3-99f8-3a49e1c773f3",
   "metadata": {},
   "outputs": [
    {
     "data": {
      "text/plain": [
       "9"
      ]
     },
     "execution_count": 3,
     "metadata": {},
     "output_type": "execute_result"
    }
   ],
   "source": [
    "5+4"
   ]
  },
  {
   "cell_type": "code",
   "execution_count": null,
   "id": "e8b42e79-2049-411f-8b85-38c2bc0527fb",
   "metadata": {},
   "outputs": [],
   "source": [
    "difference"
   ]
  },
  {
   "cell_type": "code",
   "execution_count": 4,
   "id": "80d18934-d7d3-4498-842b-28c609ff9928",
   "metadata": {},
   "outputs": [
    {
     "data": {
      "text/plain": [
       "16"
      ]
     },
     "execution_count": 4,
     "metadata": {},
     "output_type": "execute_result"
    }
   ],
   "source": [
    "20-4"
   ]
  },
  {
   "cell_type": "code",
   "execution_count": null,
   "id": "c402cca4-f4cc-46dc-a2df-15f96086313d",
   "metadata": {},
   "outputs": [],
   "source": [
    "product"
   ]
  },
  {
   "cell_type": "code",
   "execution_count": 7,
   "id": "1acbc114-e248-430b-a377-8a62debaf2cb",
   "metadata": {},
   "outputs": [
    {
     "data": {
      "text/plain": [
       "8"
      ]
     },
     "execution_count": 7,
     "metadata": {},
     "output_type": "execute_result"
    }
   ],
   "source": [
    "2*4"
   ]
  },
  {
   "cell_type": "code",
   "execution_count": null,
   "id": "653efc52-389e-4e8c-beea-287a5f4bdb7a",
   "metadata": {},
   "outputs": [],
   "source": [
    "quotient"
   ]
  },
  {
   "cell_type": "code",
   "execution_count": 9,
   "id": "5cb87d6f-7955-497c-9105-c237818d3c22",
   "metadata": {},
   "outputs": [
    {
     "data": {
      "text/plain": [
       "5.0"
      ]
     },
     "execution_count": 9,
     "metadata": {},
     "output_type": "execute_result"
    }
   ],
   "source": [
    "15/3"
   ]
  },
  {
   "cell_type": "code",
   "execution_count": null,
   "id": "572382d3-5117-464e-9f2c-d383dc810941",
   "metadata": {},
   "outputs": [],
   "source": [
    "2.Perform various assignment operations on a variable."
   ]
  },
  {
   "cell_type": "code",
   "execution_count": 4,
   "id": "a28770b9-aad0-4b27-ad41-1063f5525829",
   "metadata": {},
   "outputs": [],
   "source": [
    "a=5"
   ]
  },
  {
   "cell_type": "code",
   "execution_count": 5,
   "id": "463e9e52-fdac-42b8-a9b9-924ef1bb5c31",
   "metadata": {},
   "outputs": [
    {
     "data": {
      "text/plain": [
       "5"
      ]
     },
     "execution_count": 5,
     "metadata": {},
     "output_type": "execute_result"
    }
   ],
   "source": [
    "a"
   ]
  },
  {
   "cell_type": "code",
   "execution_count": 6,
   "id": "40e49924-3df9-41b3-822e-a12f2552d3bf",
   "metadata": {},
   "outputs": [
    {
     "data": {
      "text/plain": [
       "10"
      ]
     },
     "execution_count": 6,
     "metadata": {},
     "output_type": "execute_result"
    }
   ],
   "source": [
    "a+5"
   ]
  },
  {
   "cell_type": "code",
   "execution_count": 7,
   "id": "1fa25fc8-a6ec-4db7-9c1f-6501adc14ddb",
   "metadata": {},
   "outputs": [],
   "source": [
    "a=4"
   ]
  },
  {
   "cell_type": "code",
   "execution_count": 8,
   "id": "cb3b8eae-4faf-4f0d-b283-5a8034ca34ae",
   "metadata": {},
   "outputs": [
    {
     "data": {
      "text/plain": [
       "4"
      ]
     },
     "execution_count": 8,
     "metadata": {},
     "output_type": "execute_result"
    }
   ],
   "source": [
    "a"
   ]
  },
  {
   "cell_type": "code",
   "execution_count": 9,
   "id": "5cc4570d-cfd1-443c-a54d-3e0ea533fe52",
   "metadata": {},
   "outputs": [
    {
     "data": {
      "text/plain": [
       "8"
      ]
     },
     "execution_count": 9,
     "metadata": {},
     "output_type": "execute_result"
    }
   ],
   "source": [
    "a*2"
   ]
  },
  {
   "cell_type": "code",
   "execution_count": 11,
   "id": "57a9ef1f-9a28-4f83-8180-48c704144343",
   "metadata": {},
   "outputs": [],
   "source": [
    "a=4"
   ]
  },
  {
   "cell_type": "code",
   "execution_count": 12,
   "id": "de02f1ec-fd62-429f-a06f-f85e967862ff",
   "metadata": {},
   "outputs": [
    {
     "data": {
      "text/plain": [
       "4"
      ]
     },
     "execution_count": 12,
     "metadata": {},
     "output_type": "execute_result"
    }
   ],
   "source": [
    "a"
   ]
  },
  {
   "cell_type": "code",
   "execution_count": 13,
   "id": "0543b335-c78d-46dd-9a61-049f9c10bca8",
   "metadata": {},
   "outputs": [],
   "source": [
    "a/=2"
   ]
  },
  {
   "cell_type": "code",
   "execution_count": 14,
   "id": "11a21aa3-c243-4b5d-9628-94dd29fc2fa6",
   "metadata": {},
   "outputs": [
    {
     "data": {
      "text/plain": [
       "2.0"
      ]
     },
     "execution_count": 14,
     "metadata": {},
     "output_type": "execute_result"
    }
   ],
   "source": [
    "a"
   ]
  },
  {
   "cell_type": "code",
   "execution_count": null,
   "id": "4341cbea-5642-4d62-8bd9-2f9824633584",
   "metadata": {},
   "outputs": [],
   "source": [
    "3.Perform various assignment operations on a variable."
   ]
  },
  {
   "cell_type": "code",
   "execution_count": 15,
   "id": "06f78ba2-c4de-4f9d-8cd0-eea86b39500e",
   "metadata": {},
   "outputs": [
    {
     "data": {
      "text/plain": [
       "True"
      ]
     },
     "execution_count": 15,
     "metadata": {},
     "output_type": "execute_result"
    }
   ],
   "source": [
    "3==3"
   ]
  },
  {
   "cell_type": "code",
   "execution_count": 16,
   "id": "41eb85b7-252e-4edb-8fe7-5720d99703df",
   "metadata": {},
   "outputs": [
    {
     "data": {
      "text/plain": [
       "False"
      ]
     },
     "execution_count": 16,
     "metadata": {},
     "output_type": "execute_result"
    }
   ],
   "source": [
    "3!=3"
   ]
  },
  {
   "cell_type": "code",
   "execution_count": 17,
   "id": "388d0b98-2231-4a3d-b864-0ba219e75e64",
   "metadata": {},
   "outputs": [
    {
     "data": {
      "text/plain": [
       "True"
      ]
     },
     "execution_count": 17,
     "metadata": {},
     "output_type": "execute_result"
    }
   ],
   "source": [
    "3!=5"
   ]
  },
  {
   "cell_type": "code",
   "execution_count": null,
   "id": "548b5715-8a5c-487c-914d-74e4b9bebcf7",
   "metadata": {},
   "outputs": [],
   "source": [
    "4.Compare two numbers and print the results."
   ]
  },
  {
   "cell_type": "code",
   "execution_count": 5,
   "id": "3b83e998-d0b5-40c7-80c2-dd666f44bca1",
   "metadata": {},
   "outputs": [
    {
     "name": "stdin",
     "output_type": "stream",
     "text": [
      "enter the first number 5\n",
      "enter the second number 4\n"
     ]
    },
    {
     "name": "stdout",
     "output_type": "stream",
     "text": [
      "5is greater than 4.\n"
     ]
    }
   ],
   "source": [
    "a=input(\"enter the first number\")\n",
    "b=input(\"enter the second number\")\n",
    "if a == b:\n",
    "    print(\"the two given number are equal;\")\n",
    "elif a > b:\n",
    "    greater=(\"{}is greater than {}.\")\n",
    "    print(greater. format(a,b))\n",
    "else:\n",
    "    lesser=(\"{} is smaller than {}:\")\n",
    "    print(user.format (a,b))"
   ]
  },
  {
   "cell_type": "code",
   "execution_count": null,
   "id": "f839ebb2-8320-4b68-94f5-ab112ad72d2d",
   "metadata": {},
   "outputs": [],
   "source": [
    "4.Check conditions using logical operators."
   ]
  },
  {
   "cell_type": "code",
   "execution_count": 12,
   "id": "273bfc6b-6f12-4cdf-93d7-1e8c9a9a2e13",
   "metadata": {},
   "outputs": [
    {
     "name": "stdout",
     "output_type": "stream",
     "text": [
      "True\n"
     ]
    }
   ],
   "source": [
    "x=7\n",
    "y=6\n",
    "\n",
    "print(x==7 and x>y )"
   ]
  },
  {
   "cell_type": "code",
   "execution_count": 13,
   "id": "47e3661d-a1b5-4a62-8f40-244428dde9ea",
   "metadata": {},
   "outputs": [
    {
     "name": "stdout",
     "output_type": "stream",
     "text": [
      "False\n"
     ]
    }
   ],
   "source": [
    "x=7\n",
    "y=6\n",
    "\n",
    "print(x==7 and x>y  and x==y)"
   ]
  },
  {
   "cell_type": "code",
   "execution_count": null,
   "id": "417769d5-4324-423a-b9c0-5252743448be",
   "metadata": {},
   "outputs": [],
   "source": [
    "5.Check the identity of variables."
   ]
  },
  {
   "cell_type": "code",
   "execution_count": 2,
   "id": "317d0fbb-6045-4bd4-a9c6-b2eea9c3a6cc",
   "metadata": {},
   "outputs": [
    {
     "name": "stdin",
     "output_type": "stream",
     "text": [
      "enter a va. 5\n"
     ]
    },
    {
     "data": {
      "text/plain": [
       "str"
      ]
     },
     "execution_count": 2,
     "metadata": {},
     "output_type": "execute_result"
    }
   ],
   "source": [
    "a=input(\"enter a va.\")\n",
    "type(a)"
   ]
  },
  {
   "cell_type": "code",
   "execution_count": 29,
   "id": "5c8c9fd4-4834-403d-bbb1-0ed7c22487e0",
   "metadata": {},
   "outputs": [
    {
     "data": {
      "text/plain": [
       "str"
      ]
     },
     "execution_count": 29,
     "metadata": {},
     "output_type": "execute_result"
    }
   ],
   "source": []
  },
  {
   "cell_type": "code",
   "execution_count": 1,
   "id": "8220b64d-5d5e-408f-8154-ce8a01335e59",
   "metadata": {},
   "outputs": [
    {
     "data": {
      "text/plain": [
       "int"
      ]
     },
     "execution_count": 1,
     "metadata": {},
     "output_type": "execute_result"
    }
   ],
   "source": [
    "x=5\n",
    "type(x)"
   ]
  },
  {
   "cell_type": "code",
   "execution_count": null,
   "id": "77ebe4e4-5b45-4fef-b3f1-5246ef7e28ff",
   "metadata": {},
   "outputs": [],
   "source": [
    "6.Perform bitwise operations on any two integers."
   ]
  },
  {
   "cell_type": "code",
   "execution_count": 4,
   "id": "0a8e172f-7c01-4e72-9bd6-eda8abce878d",
   "metadata": {},
   "outputs": [
    {
     "data": {
      "text/plain": [
       "13"
      ]
     },
     "execution_count": 4,
     "metadata": {},
     "output_type": "execute_result"
    }
   ],
   "source": [
    "9^4"
   ]
  },
  {
   "cell_type": "code",
   "execution_count": 5,
   "id": "2c81cf46-64bb-4be4-8bdb-ae9ac22e1925",
   "metadata": {},
   "outputs": [
    {
     "data": {
      "text/plain": [
       "'0b1001'"
      ]
     },
     "execution_count": 5,
     "metadata": {},
     "output_type": "execute_result"
    }
   ],
   "source": [
    "bin(9)"
   ]
  },
  {
   "cell_type": "code",
   "execution_count": 15,
   "id": "6cd3f7b1-58ac-4d22-b2f0-ebcb88cdded2",
   "metadata": {},
   "outputs": [
    {
     "data": {
      "text/plain": [
       "'0b100'"
      ]
     },
     "execution_count": 15,
     "metadata": {},
     "output_type": "execute_result"
    }
   ],
   "source": [
    "bin(4)"
   ]
  },
  {
   "cell_type": "code",
   "execution_count": null,
   "id": "eba3b5f8-44d7-4c85-83a5-1732a42506e8",
   "metadata": {},
   "outputs": [],
   "source": [
    "7.Use unary operators to change the sign of a number."
   ]
  },
  {
   "cell_type": "code",
   "execution_count": 16,
   "id": "3320cf24-9acc-4cb1-94ec-12e27e2f1016",
   "metadata": {},
   "outputs": [
    {
     "data": {
      "text/plain": [
       "-6"
      ]
     },
     "execution_count": 16,
     "metadata": {},
     "output_type": "execute_result"
    }
   ],
   "source": [
    "a=5\n",
    "~a"
   ]
  },
  {
   "cell_type": "code",
   "execution_count": null,
   "id": "0423245d-52e7-419a-aee9-175d861c4bca",
   "metadata": {},
   "outputs": [],
   "source": []
  },
  {
   "cell_type": "code",
   "execution_count": 21,
   "id": "25c9cd59-bf98-45a2-93d8-9c6f334db2e2",
   "metadata": {},
   "outputs": [
    {
     "name": "stdout",
     "output_type": "stream",
     "text": [
      "positive\n"
     ]
    }
   ],
   "source": [
    "x=5\n",
    "print(\"positive\" if x>0 else \" negative\")\n"
   ]
  },
  {
   "cell_type": "code",
   "execution_count": null,
   "id": "d3974fab-2462-4f0d-a844-51e61274f2d7",
   "metadata": {},
   "outputs": [],
   "source": []
  }
 ],
 "metadata": {
  "kernelspec": {
   "display_name": "Python 3 (ipykernel)",
   "language": "python",
   "name": "python3"
  },
  "language_info": {
   "codemirror_mode": {
    "name": "ipython",
    "version": 3
   },
   "file_extension": ".py",
   "mimetype": "text/x-python",
   "name": "python",
   "nbconvert_exporter": "python",
   "pygments_lexer": "ipython3",
   "version": "3.10.8"
  }
 },
 "nbformat": 4,
 "nbformat_minor": 5
}
